{
 "cells": [
  {
   "cell_type": "code",
   "execution_count": 1,
   "metadata": {},
   "outputs": [],
   "source": [
    "from utils import all_registers\n",
    "from pprint import pprint\n",
    "import list_comp as lc\n",
    "import dict_transform as dt\n",
    "import set_transform as st"
   ]
  },
  {
   "attachments": {},
   "cell_type": "markdown",
   "metadata": {},
   "source": [
    "# **Proyecto 3.1. Iteradores**\n",
    "## Video Games Sales\n",
    "\n",
    "#### Integrantes del equipo:\n",
    "1.   Elorza Velásquez Margarita\n",
    "2.   García González Axel Isaac\n",
    "3.   García González Kevin"
   ]
  },
  {
   "attachments": {},
   "cell_type": "markdown",
   "metadata": {},
   "source": [
    "### **Utils: Corresponde con el modulo utils el cual se importó al inicio del documento**"
   ]
  },
  {
   "attachments": {},
   "cell_type": "markdown",
   "metadata": {},
   "source": [
    "> Devuelve una tupla que tiene una tupla con los headers del csv  y una tupla de tuplas con todos los registros y todas las columnas del archivo vgsales.csv"
   ]
  },
  {
   "cell_type": "code",
   "execution_count": 2,
   "metadata": {},
   "outputs": [],
   "source": [
    "def all_registers(\n",
    "        name_file: str) -> tuple[tuple[str, ...], tuple[tuple[str, ...], ...]]:\n",
    "    '''Devuelve una tupla que tiene una tupla con los headers del csv \n",
    "    y una tupla de tuplas con todos los registros y todas las columnas del archivo vgsales.csv'''\n",
    "\n",
    "    with open(name_file) as csvfile:\n",
    "        games = csv.reader(csvfile, delimiter=',')\n",
    "        h = tuple(next(games))\n",
    "\n",
    "        tuple_games = tuple(tuple(game) for game in games)\n",
    "\n",
    "        return (h, tuple_games)"
   ]
  },
  {
   "attachments": {},
   "cell_type": "markdown",
   "metadata": {},
   "source": [
    "### **Lists: Corresponde con el modulo list_comp el cual se importó al comienzo del documento como lc**"
   ]
  },
  {
   "attachments": {},
   "cell_type": "markdown",
   "metadata": {},
   "source": [
    "> *Modulo list_comp donde se encuentran declaradas las funciones para las listas*"
   ]
  },
  {
   "cell_type": "code",
   "execution_count": 3,
   "metadata": {},
   "outputs": [],
   "source": [
    "from typing import Callable\n",
    "import csv"
   ]
  },
  {
   "attachments": {},
   "cell_type": "markdown",
   "metadata": {},
   "source": [
    "> A continuación se muestra la función actividades."
   ]
  },
  {
   "cell_type": "code",
   "execution_count": 4,
   "metadata": {},
   "outputs": [],
   "source": [
    "def actividades(csvName) -> Callable:\n",
    "    #-------------Primera accion del generador (Crear la lista de diccionarios de los juegos)--------------#\n",
    "\n",
    "    lista = []\n",
    "    with open(csvName) as csvfile:\n",
    "        reader = csv.DictReader(csvfile)\n",
    "        for row in reader:\n",
    "            lista.append(row)\n",
    "\n",
    "    print(\"-----------Lista Generada--------\")\n",
    "    yield lista\n",
    "\n",
    "\n",
    "    #----------Actividad, de la lista extraida(del csv) solo dejar el diccionario con nombre, rango, plataforma, año, género---------#\n",
    "\n",
    "    #Funcion que recibe un diccionario y regresa solo algunos elementos del mismo\n",
    "    def quitarElementos(diccionario):\n",
    "        return {'Rank':diccionario['Rank'], 'Name':diccionario['Name'],'Platform':diccionario['Platform'],'Genre':diccionario['Genre'],'Year':diccionario['Year']}\n",
    "\n",
    "    print(\"-----------Actividad 1, quitar informacion--------\")\n",
    "    yield map(quitarElementos,lista)\n",
    "\n",
    "    #----------Actividad, de la lista extraida(del csv) solo dejar los juegos de plataforma Wii\n",
    "\n",
    "    print(\"-----------Actividad 2, dejar solo plataforma Wii--------\")\n",
    "\n",
    "    yield filter(lambda x : x['Platform'] == 'Wii',lista)\n",
    "\n",
    "    #----------Actividad, de la lista extraida(del csv) filtrar por el año 2006 y solo mostrar el rango, el nombre y su género\n",
    "\n",
    "    print(\"-----------Actividad 3, Filtrar por año 2006 y mostrar nombre,rango,genero--------\")\n",
    "\n",
    "    yield map(lambda x : {'Rank':x['Rank'],'Name':x['Name'],'Genre':x['Genre']},filter(lambda x : x['Year'] == '2006',lista))\n",
    "\n",
    "    #----------Actividad, de la lista extraida(del csv) usar Generator comprehensions para tomar todos los juegos publicados por nintendo y sacar el promedio de Sales\n",
    "\n",
    "    print(\"-----------Actividad 4, tomar juegos publicados por nintendo y sacar promedio de sus Sales\")\n",
    "    \n",
    "    def sumaT(x):\n",
    "        return float(x['NA_Sales']) + float(x['EU_Sales']) + float(x['JP_Sales']) + float(x['Other_Sales']) + float(x['Global_Sales'])\n",
    "\n",
    "    yield ({'Name':i['Name'], 'Publisher':i['Publisher'] , 'Platform':['Platform'] , 'Sales' : round(sumaT(i)/5,2) } for i in lista if i['Publisher'] == 'Nintendo')\n",
    "\n",
    "    #----------Actividad, de la lista extraida(del csv) con un generador ordenar los juegos por año de salida pero que se presenten del mas actual al mas viejo (filtrar los que no tengan año N/A ), que se muestre año, nombre y rango.\n",
    "\n",
    "    print(\"-----------Actividad 5, Ordenar por año del mas nuevo al mas viejo mostrando  año, nombre y rango\")\n",
    "\n",
    "    yield ( {'Year':i['Year'] , 'Name':i['Name'] , 'Rank':i['Rank']} for i in reversed(sorted( filter( lambda x : x['Year'] != 'N/A' and x['Year'] != 'Adventure',lista), key = lambda x : x['Year'])) )"
   ]
  },
  {
   "attachments": {},
   "cell_type": "markdown",
   "metadata": {},
   "source": [
    "### **Dictionary: Corresponde con el modulo dict_transform el cual se importó al comienzo del documento como dt**"
   ]
  },
  {
   "cell_type": "code",
   "execution_count": 5,
   "metadata": {},
   "outputs": [],
   "source": [
    "from statistics import mean\n",
    "from functools import reduce"
   ]
  },
  {
   "attachments": {},
   "cell_type": "markdown",
   "metadata": {},
   "source": [
    ">Closure para obtener ciertas columnas de una tupla."
   ]
  },
  {
   "cell_type": "code",
   "execution_count": 6,
   "metadata": {},
   "outputs": [],
   "source": [
    "def select_columns(columns: list[str], h: tuple[str, ...]) -> Callable:\n",
    "\n",
    "    def inner(data: tuple[str, ...]):\n",
    "        return (data[h.index(c)] for c in columns)\n",
    "\n",
    "    return inner"
   ]
  },
  {
   "attachments": {},
   "cell_type": "markdown",
   "metadata": {},
   "source": [
    "> 1. Diccionario con el 'Name' del juego como clave y la 'Platform' del juego como valor."
   ]
  },
  {
   "cell_type": "code",
   "execution_count": 7,
   "metadata": {},
   "outputs": [],
   "source": [
    "def first_dict(data: tuple[tuple[str, ...], ...], h: tuple[str, ...]) -> dict:\n",
    "\n",
    "    # Map que recorre la lista y genera una tupla con el 'Name' y la 'Platform'\n",
    "    # del juego para luego convertirlo en un diccionario.\n",
    "    return dict(\n",
    "        map(lambda game: (game[h.index(\"Name\")], game[h.index(\"Platform\")]),\n",
    "            data))"
   ]
  },
  {
   "attachments": {},
   "cell_type": "markdown",
   "metadata": {},
   "source": [
    "> 2. Diccionario con el 'Name' del juego como clave y la 'Platform' del juego como valor, que sean del año 2009."
   ]
  },
  {
   "cell_type": "code",
   "execution_count": 8,
   "metadata": {},
   "outputs": [],
   "source": [
    "def second_dict(data: tuple[tuple[str, ...], ...], h: tuple[str, ...]) -> dict:\n",
    "\n",
    "    # Map que recorre la lista y genera una tupla con el 'Name' y la 'Platform'\n",
    "    # del juego de aquellos que son del año 2009 para luego convertirlo en un diccionario.\n",
    "    return dict(\n",
    "        map(lambda game: (game[h.index(\"Name\")], game[h.index(\"Platform\")]),\n",
    "            filter(lambda game: game[h.index(\"Year\")] == \"2009\", data)))"
   ]
  },
  {
   "attachments": {},
   "cell_type": "markdown",
   "metadata": {},
   "source": [
    "> 3. Diccionario con todos los registros que su 'Publisher' sea Sega"
   ]
  },
  {
   "cell_type": "code",
   "execution_count": 9,
   "metadata": {},
   "outputs": [],
   "source": [
    "def third_dict(data: tuple[tuple[str, ...], ...], h: tuple[str, ...]) -> dict:\n",
    "\n",
    "    # filter que filtra a los juegos que su 'Publisher' sea Sega\n",
    "    filtered_games = filter(lambda game: game[h.index(\"Publisher\")] == \"Sega\",\n",
    "                            data)\n",
    "\n",
    "    # Map que recorre la lista y genera una tupla con el 'Name' y un diccionario\n",
    "    # con los datos del juego para luego convertirlo en un diccionario.\n",
    "    return dict(\n",
    "        map(\n",
    "            lambda game: (game[h.index(\"Name\")], {\n",
    "                \"Platform\": game[h.index(\"Platform\")],\n",
    "                \"Year\": game[h.index(\"Year\")],\n",
    "                \"Genre\": game[h.index(\"Genre\")],\n",
    "                \"Plublisher\": game[h.index(\"Publisher\")],\n",
    "            }), filtered_games))"
   ]
  },
  {
   "attachments": {},
   "cell_type": "markdown",
   "metadata": {},
   "source": [
    "> 4. Diccionario que tiene el 'Name' del juego como clave y sus datos como valor y que 'Rank' sea mayor a 10 y menor a 20"
   ]
  },
  {
   "cell_type": "code",
   "execution_count": 10,
   "metadata": {},
   "outputs": [],
   "source": [
    "def fourth_dict(data: tuple[tuple[str, ...], ...], h: tuple[str, ...]) -> dict:\n",
    "\n",
    "    # filter que filtra a los juegos que su 'Rank' sea mayor a 10 y menor a 20\n",
    "    filtered_games = filter(\n",
    "        lambda game: int(game[h.index(\"Rank\")]) > 10 and int(game[h.index(\n",
    "            \"Rank\")]) < 20, data)"
   ]
  },
  {
   "attachments": {},
   "cell_type": "markdown",
   "metadata": {},
   "source": [
    "> 5. Diccionario con el 'Name' del juego como clave y un promedio de sus Sales como valor"
   ]
  },
  {
   "cell_type": "code",
   "execution_count": 11,
   "metadata": {},
   "outputs": [],
   "source": [
    "def fifth_dict(data: tuple[tuple[str, ...], ...], h: tuple[str, ...]) -> dict:\n",
    "\n",
    "    # Closure para obtener las columnas de ventas en diferentes territorios.\n",
    "    sales_selected = select_columns(\n",
    "        [\"NA_Sales\", \"EU_Sales\", \"JP_Sales\", \"Other_Sales\"], h)\n",
    "\n",
    "    # Reduce que recorre la lista y genera un diccionario con el 'Name' del juego\n",
    "    # como clave y un promedio de sus Sales como valor.\n",
    "    return reduce(\n",
    "        lambda dictionary, game: {\n",
    "            **dictionary, game[h.index(\"Name\")]:\n",
    "            mean(map(float, sales_selected(game)))\n",
    "        }, data, {})"
   ]
  },
  {
   "attachments": {},
   "cell_type": "markdown",
   "metadata": {},
   "source": [
    "### **Sets: Corresponde con el modulo set_transform el cual se importó al comienzo del documento como st**"
   ]
  },
  {
   "attachments": {},
   "cell_type": "markdown",
   "metadata": {},
   "source": [
    "> 1. Conjunto de los nombres de las plataformas"
   ]
  },
  {
   "cell_type": "code",
   "execution_count": 12,
   "metadata": {},
   "outputs": [],
   "source": [
    "def first_set(data: tuple[tuple[str, ...], ...], h: tuple[str, ...]) -> set[str]:\n",
    "    names = set(map(lambda x: x[h.index(\"Platform\")], data))\n",
    "    return names"
   ]
  },
  {
   "attachments": {},
   "cell_type": "markdown",
   "metadata": {},
   "source": [
    "> 2. Conjunto de todos los registros donde sus elementos sean la tupla 'Name' y 'Global_Sales' de los juegos"
   ]
  },
  {
   "cell_type": "code",
   "execution_count": 13,
   "metadata": {},
   "outputs": [],
   "source": [
    "def second_set(data: tuple[tuple[str, ...], ...], h: tuple[str, ...]) -> set[tuple[str, str]]:\n",
    "    get_data = set(map(lambda x: (x[h.index(\"Name\")], x[h.index(\"Global_Sales\")]), data))\n",
    "    return get_data"
   ]
  },
  {
   "attachments": {},
   "cell_type": "markdown",
   "metadata": {},
   "source": [
    "> 3. Conjunto de todos los registros donde sus elementos sean la tupla 'Name' y 'NA_Sales' de los juegos que hayan vendido más de 5.0 millones en NA."
   ]
  },
  {
   "cell_type": "code",
   "execution_count": 14,
   "metadata": {},
   "outputs": [],
   "source": [
    "def third_set(data: tuple[tuple[str, ...], ...], h: tuple[str, ...]) -> set[tuple[str, str]]:\n",
    "    keys = ('Name', 'NA_Sales')\n",
    "    get_data = set(filter(lambda x: x[keys.index('NA_Sales')] > 5.0, map(lambda x: (x[h.index(\"Name\")], float(x[h.index(\"NA_Sales\")])), data)))\n",
    "    return get_data"
   ]
  },
  {
   "attachments": {},
   "cell_type": "markdown",
   "metadata": {},
   "source": [
    "> 4. Conjunto de tuplas con las columnas: 'Name' y 'Global_Sales' de juegos donde su 'Publisher' sea Sega, su 'Platform' sea 3DS y que contengan la palabra Sonic."
   ]
  },
  {
   "cell_type": "code",
   "execution_count": 15,
   "metadata": {},
   "outputs": [],
   "source": [
    "def fourth_set(data: tuple[tuple[str, ...], ...], h: tuple[str, ...]) -> set[tuple[str, str]]:\n",
    "    # keys = ['Name', 'Global_Sales']\n",
    "    get_data = filter(lambda x: x[h.index('Publisher')] == \"Sega\" and x[h.index('Platform')] == \"3DS\" and x[h.index('Name')].find('Sonic') != -1,\n",
    "                      data)\n",
    "    get_filData = set(map(lambda x: (x[h.index('Name')], x[h.index('Global_Sales')]), get_data))\n",
    "    \n",
    "    return get_filData"
   ]
  },
  {
   "attachments": {},
   "cell_type": "markdown",
   "metadata": {},
   "source": [
    "> 5. Conjunto de los nombres de los 'Publisher' que poseen juegos del genero 'Platform' cuyo lanzamiento esté entre los años 2013 y 2016."
   ]
  },
  {
   "cell_type": "code",
   "execution_count": 16,
   "metadata": {},
   "outputs": [],
   "source": [
    "def fifth_set(data: tuple[tuple[str, ...], ...], h: tuple[str, ...]) -> set[str]:\n",
    "    get_data = filter(lambda x: x[h.index('Genre')] == 'Platform' and x[h.index('Year')] >= '2013' and x[h.index('Year')] <= '2016', data)\n",
    "    get_filData = set(map(lambda x: x[h.index('Publisher')], get_data))    \n",
    "    return get_filData"
   ]
  },
  {
   "attachments": {},
   "cell_type": "markdown",
   "metadata": {},
   "source": [
    "> > *Para realizar las operaciones sobre conjuntos se definieron los siguientes conjuntos además de utilizar los ya obtenidos en la sección anterior.*"
   ]
  },
  {
   "attachments": {},
   "cell_type": "markdown",
   "metadata": {},
   "source": [
    "> Conjunto de tuplas con las columnas: Name y Global_Sales de juegos que su plublisher sea Sega y su plataforma 3DS."
   ]
  },
  {
   "cell_type": "code",
   "execution_count": 17,
   "metadata": {},
   "outputs": [],
   "source": [
    "def conjunto_p(data: tuple[tuple[str, ...], ...], h: tuple[str, ...]) -> set[tuple[str, str]]:\n",
    "    get_data = filter(lambda x: x[h.index('Publisher')] == \"Sega\" and x[h.index('Platform')] == \"3DS\",data)\n",
    "    get_filData = set(map(lambda x: (x[h.index('Name')], x[h.index('Global_Sales')]), get_data))\n",
    "    \n",
    "    return get_filData"
   ]
  },
  {
   "attachments": {},
   "cell_type": "markdown",
   "metadata": {},
   "source": [
    "> Conjunto de los nombres de las plataformas que tengan juegos del genero Action"
   ]
  },
  {
   "cell_type": "code",
   "execution_count": 18,
   "metadata": {},
   "outputs": [],
   "source": [
    "def conjunto_q(data: tuple[tuple[str, ...], ...], h: tuple[str,...]) -> set[str]:\n",
    "    get_data = filter(lambda x: x[h.index('Genre')] == 'Action', data)\n",
    "    get_filData = set(map(lambda x: x[h.index('Platform')], get_data))\n",
    "    return get_filData"
   ]
  },
  {
   "attachments": {},
   "cell_type": "markdown",
   "metadata": {},
   "source": [
    "> Conjunto de todos los registros que sus elementos sean la tupla \"Name\" y \"NA_Sales\" de los juegos que hayan vendido más de 4.0 millones en NA"
   ]
  },
  {
   "cell_type": "code",
   "execution_count": 19,
   "metadata": {},
   "outputs": [],
   "source": [
    "def conjunto_u(data: tuple[tuple[str, ...], ...], h: tuple[str, ...]) -> set[tuple[str, str]]:\n",
    "    keys = ('Name', 'NA_Sales')\n",
    "    get_data = set(filter(lambda x: x[keys.index('NA_Sales')] > 4.0, map(lambda x: (x[h.index(\"Name\")], float(x[h.index(\"NA_Sales\")])), data)))\n",
    "    return get_data"
   ]
  },
  {
   "attachments": {},
   "cell_type": "markdown",
   "metadata": {},
   "source": [
    "### **Main: Corresponde con el programa principal, aquí se realiza la ejecución de las funciones anteriores**"
   ]
  },
  {
   "attachments": {},
   "cell_type": "markdown",
   "metadata": {},
   "source": [
    "> 1. print_list, listas"
   ]
  },
  {
   "cell_type": "code",
   "execution_count": 20,
   "metadata": {},
   "outputs": [],
   "source": [
    "def print_list() -> None:\n",
    "    dir_csv = \"./vgsales.csv\"\n",
    "\n",
    "    #Ciclo que sirve como iteradores encadenados y nos muestra las 5 actividades, genera una lista del CSV y musestra las 5 actividades puestas en el modulo List_comp.py\n",
    "    for i in lc.actividades(dir_csv):\n",
    "\n",
    "        #Comprueba que sea un iterador (Object)\n",
    "        if (isinstance(i, object)):\n",
    "            for j, k in enumerate(i):\n",
    "                #Usando enumerate vamos a verificar que solo 3 se impriman, esto para no imprimir muchos juegos y puedan diferenciarse las actividades\n",
    "                if j == 3:\n",
    "                    print(k)\n",
    "                    break\n",
    "                print(k)\n",
    "\n",
    "        # si no es un iterador es un iterable o lista\n",
    "        else:\n",
    "            print(i[:4])"
   ]
  },
  {
   "attachments": {},
   "cell_type": "markdown",
   "metadata": {},
   "source": [
    "> 2. print_dict, diccionarios"
   ]
  },
  {
   "cell_type": "code",
   "execution_count": 21,
   "metadata": {},
   "outputs": [],
   "source": [
    "def print_dicts(h: tuple[str, ...], data: tuple[tuple[str, ...], ...]) -> None:\n",
    "    print(\n",
    "        \"1. Diccionario con el 'Name' del juego como clave y la 'Platform' del juego como valor.\"\n",
    "    )\n",
    "    dict_one = dt.first_dict(data, h)\n",
    "    pprint(dict(list(dict_one.items())[:3]))\n",
    "\n",
    "    print(\n",
    "        \"\\n2. Diccionario con el 'Name' del juego como clave y la 'Platform' del juego como valor que sean del año 2009.\"\n",
    "    )\n",
    "    dict_two = dt.second_dict(data, h)\n",
    "    pprint(dict(list(dict_two.items())[:3]))\n",
    "\n",
    "    print(\n",
    "        \"\\n3. Diccionario con todos los registros que su 'Publisher' sea Sega\")\n",
    "    dict_three = dt.third_dict(data, h)\n",
    "    pprint(dict(list(dict_three.items())[:3]))\n",
    "\n",
    "    print(\n",
    "        \"\\n4. Diccionario que tiene el 'Name' del juego como clave y sus datos como valor y que 'Rank' sea mayor a 10 y menor a 20\"\n",
    "    )\n",
    "    dict_four = dt.fourth_dict(data, h)\n",
    "    pprint(dict(list(dict_four.items())[:3]))\n",
    "\n",
    "    print(\n",
    "        \"\\n5. Diccionario con el 'Name' del juego como clave y un promedio de sus Sales como valor\"\n",
    "    )\n",
    "    dict_five = dt.fifth_dict(data, h)\n",
    "    pprint(dict(list(dict_five.items())[:3]))\n"
   ]
  },
  {
   "attachments": {},
   "cell_type": "markdown",
   "metadata": {},
   "source": [
    "> 3. print_set, conjuntos"
   ]
  },
  {
   "cell_type": "code",
   "execution_count": 22,
   "metadata": {},
   "outputs": [],
   "source": [
    "def print_sets(h: tuple[str, ...], data: tuple[tuple[str, ...], ...]) -> None:\n",
    "    print(\n",
    "        \"1. Conjunto de los nombres de las plataformas.\"\n",
    "    )\n",
    "    set_one = st.first_set(data, h)\n",
    "    pprint(set(list(set_one)[:5]))\n",
    "    \n",
    "    print(\n",
    "        \"\\n2. Conjunto de todos los registros que sus elementos sean la tupla \"\n",
    "        \"'Name' y 'Global_Sales' de los juegos.\"\n",
    "    )\n",
    "    set_two = st.second_set(data, h)\n",
    "    pprint(set(list(set_two)[:5]))\n",
    "\n",
    "    print(\n",
    "        \"\\n3. Conjunto de todos los registros donde sus elementos sean la tupla \"\n",
    "        \"'Name' y 'NA_Sales' de los juegos que hayan vendido más de 5.0 \"\n",
    "        \"millones en NA\"\n",
    "    )\n",
    "    set_three = st.third_set(data, h)\n",
    "    pprint(set(list(set_three)[:5]))\n",
    "\n",
    "    print(\n",
    "        \"\\n4. Conjunto de tuplas con las columnas: 'Name' y 'Global_Sales' de juegos \"\n",
    "        \"donde su 'Publisher' sea Sega, su 'Platform' sea 3DS y que contengan la palabra Sonic\"\n",
    "    )\n",
    "    set_four = st.fourth_set(data, h)\n",
    "    pprint(set(list(set_four)[:5]))\n",
    "\n",
    "    print(\n",
    "        \"\\n5. Conjunto de los nombres de los 'Publisher' que poseen juegos del \"\n",
    "        \"genero 'Platform' cuyo lanzamiento esté entre los años 2013 y \"\n",
    "        \"2016\"\n",
    "    )\n",
    "    set_five = st.fifth_set(data, h)\n",
    "    pprint(set(list(set_five)[:5]))"
   ]
  },
  {
   "attachments": {},
   "cell_type": "markdown",
   "metadata": {},
   "source": [
    "> 4. print_set, operaciones con conjuntos"
   ]
  },
  {
   "cell_type": "code",
   "execution_count": 23,
   "metadata": {},
   "outputs": [],
   "source": [
    "def print_operation_sets(h: tuple[str, ...], data: tuple[tuple[str, ...],...]) -> None:\n",
    "\n",
    "    A = st.conjunto_p(data, h) - st.fourth_set(data, h)\n",
    "    print(\n",
    "        \"\\n1. Conjunto de las tuplas de los juegos donde su 'Platform' sea 3DS, \"\n",
    "        \"su 'Publisher' sea Sega y su nombre no contenga la palabra Sonic.\"\n",
    "    )\n",
    "    pprint(set(list(A)[:5]))\n",
    "\n",
    "    B = st.fifth_set(data, h).union(st.first_set(data, h))\n",
    "    print(\n",
    "        \"\\n2. Conjunto de los 'Publisher' que poseen juegos del genero 'Platform' \"\n",
    "        \"cuyo lanzamiento esta entre los años 2013-2016 y los nombres de las plataformas.\"\n",
    "    )\n",
    "    pprint(set(list(B)[:5]))\n",
    "\n",
    "    C = A.intersection(st.second_set(data, h))\n",
    "    print(\n",
    "        \"\\n3. Conjunto de tuplas que pertenezcan tanto al conjunto A \"\n",
    "           \"y el resultado de ejercicio 2 de la sección anterior.\"\n",
    "    )\n",
    "    pprint(set(list(C)[:5]))\n",
    "\n",
    "    D = st.conjunto_q(data, h) ^ st.first_set(data, h)\n",
    "    print(\n",
    "        \"\\n4. Conjunto complemento de las plataformas que pertenecen a \"\n",
    "           \"los resultados del ejercicio 1 de la sección anterior \"\n",
    "           \"y el conjunto de la llamada a la función conjunto_q().\"\n",
    "    )\n",
    "    pprint(set(list(D)[:5]))\n",
    "\n",
    "    E = st.third_set(data, h) & st.conjunto_u(data, h)\n",
    "    print(\n",
    "        \"\\n5. Conjunto de tuplas donde las ventas de los juegos \"\n",
    "         \"que se encuentren en el conjunto del ejercicio 3 de la sección \"\n",
    "         \"anterior y en el conjunto de la llamda a la función conjunto_u().\"\n",
    "    )\n",
    "    pprint(set(list(E)[:5]))\n"
   ]
  },
  {
   "cell_type": "code",
   "execution_count": 24,
   "metadata": {},
   "outputs": [],
   "source": [
    "h, data = all_registers('./vgsales.csv')"
   ]
  },
  {
   "attachments": {},
   "cell_type": "markdown",
   "metadata": {},
   "source": [
    "> 5. main, programa principal"
   ]
  },
  {
   "cell_type": "code",
   "execution_count": 25,
   "metadata": {},
   "outputs": [
    {
     "name": "stdout",
     "output_type": "stream",
     "text": [
      "----------------------------- List  -------------------------------\n",
      "\n",
      "-----------Lista Generada--------\n",
      "{'Rank': '1', 'Name': 'Wii Sports', 'Platform': 'Wii', 'Year': '2006', 'Genre': 'Sports', 'Publisher': 'Nintendo', 'NA_Sales': '41.49', 'EU_Sales': '29.02', 'JP_Sales': '3.77', 'Other_Sales': '8.46', 'Global_Sales': '82.74'}\n",
      "{'Rank': '2', 'Name': 'Super Mario Bros.', 'Platform': 'NES', 'Year': '1985', 'Genre': 'Platform', 'Publisher': 'Nintendo', 'NA_Sales': '29.08', 'EU_Sales': '3.58', 'JP_Sales': '6.81', 'Other_Sales': '0.77', 'Global_Sales': '40.24'}\n",
      "{'Rank': '3', 'Name': 'Mario Kart Wii', 'Platform': 'Wii', 'Year': '2008', 'Genre': 'Racing', 'Publisher': 'Nintendo', 'NA_Sales': '15.85', 'EU_Sales': '12.88', 'JP_Sales': '3.79', 'Other_Sales': '3.31', 'Global_Sales': '35.82'}\n",
      "{'Rank': '4', 'Name': 'Wii Sports Resort', 'Platform': 'Wii', 'Year': '2009', 'Genre': 'Sports', 'Publisher': 'Nintendo', 'NA_Sales': '15.75', 'EU_Sales': '11.01', 'JP_Sales': '3.28', 'Other_Sales': '2.96', 'Global_Sales': '33'}\n",
      "-----------Actividad 1, quitar informacion--------\n",
      "{'Rank': '1', 'Name': 'Wii Sports', 'Platform': 'Wii', 'Genre': 'Sports', 'Year': '2006'}\n",
      "{'Rank': '2', 'Name': 'Super Mario Bros.', 'Platform': 'NES', 'Genre': 'Platform', 'Year': '1985'}\n",
      "{'Rank': '3', 'Name': 'Mario Kart Wii', 'Platform': 'Wii', 'Genre': 'Racing', 'Year': '2008'}\n",
      "{'Rank': '4', 'Name': 'Wii Sports Resort', 'Platform': 'Wii', 'Genre': 'Sports', 'Year': '2009'}\n",
      "-----------Actividad 2, dejar solo plataforma Wii--------\n",
      "{'Rank': '1', 'Name': 'Wii Sports', 'Platform': 'Wii', 'Year': '2006', 'Genre': 'Sports', 'Publisher': 'Nintendo', 'NA_Sales': '41.49', 'EU_Sales': '29.02', 'JP_Sales': '3.77', 'Other_Sales': '8.46', 'Global_Sales': '82.74'}\n",
      "{'Rank': '3', 'Name': 'Mario Kart Wii', 'Platform': 'Wii', 'Year': '2008', 'Genre': 'Racing', 'Publisher': 'Nintendo', 'NA_Sales': '15.85', 'EU_Sales': '12.88', 'JP_Sales': '3.79', 'Other_Sales': '3.31', 'Global_Sales': '35.82'}\n",
      "{'Rank': '4', 'Name': 'Wii Sports Resort', 'Platform': 'Wii', 'Year': '2009', 'Genre': 'Sports', 'Publisher': 'Nintendo', 'NA_Sales': '15.75', 'EU_Sales': '11.01', 'JP_Sales': '3.28', 'Other_Sales': '2.96', 'Global_Sales': '33'}\n",
      "{'Rank': '8', 'Name': 'Wii Play', 'Platform': 'Wii', 'Year': '2006', 'Genre': 'Misc', 'Publisher': 'Nintendo', 'NA_Sales': '14.03', 'EU_Sales': '9.2', 'JP_Sales': '2.93', 'Other_Sales': '2.85', 'Global_Sales': '29.02'}\n",
      "-----------Actividad 3, Filtrar por año 2006 y mostrar nombre,rango,genero--------\n",
      "{'Rank': '1', 'Name': 'Wii Sports', 'Genre': 'Sports'}\n",
      "{'Rank': '7', 'Name': 'New Super Mario Bros.', 'Genre': 'Platform'}\n",
      "{'Rank': '8', 'Name': 'Wii Play', 'Genre': 'Misc'}\n",
      "{'Rank': '21', 'Name': 'Pokemon Diamond/Pokemon Pearl', 'Genre': 'Role-Playing'}\n",
      "-----------Actividad 4, tomar juegos publicados por nintendo y sacar promedio de sus Sales\n",
      "{'Name': 'Wii Sports', 'Publisher': 'Nintendo', 'Platform': ['Platform'], 'Sales': 33.1}\n",
      "{'Name': 'Super Mario Bros.', 'Publisher': 'Nintendo', 'Platform': ['Platform'], 'Sales': 16.1}\n",
      "{'Name': 'Mario Kart Wii', 'Publisher': 'Nintendo', 'Platform': ['Platform'], 'Sales': 14.33}\n",
      "{'Name': 'Wii Sports Resort', 'Publisher': 'Nintendo', 'Platform': ['Platform'], 'Sales': 13.2}\n",
      "-----------Actividad 5, Ordenar por año del mas nuevo al mas viejo mostrando  año, nombre y rango\n",
      "{'Year': '2020', 'Name': 'Imagine: Makeup Artist', 'Rank': '5959'}\n",
      "{'Year': '2017', 'Name': 'Brothers Conflict: Precious Baby', 'Rank': '16441'}\n",
      "{'Year': '2017', 'Name': 'Phantasy Star Online 2 Episode 4: Deluxe Package', 'Rank': '16244'}\n",
      "{'Year': '2017', 'Name': 'Phantasy Star Online 2 Episode 4: Deluxe Package', 'Rank': '14393'}\n",
      "\n",
      "-------------------------------------------------------------------\n"
     ]
    }
   ],
   "source": [
    "# List\n",
    "print(\"----------------------------- List  -------------------------------\\n\")\n",
    "print_list()\n",
    "print(\n",
    "\t\"\\n-------------------------------------------------------------------\"\n",
    ")"
   ]
  },
  {
   "cell_type": "code",
   "execution_count": 26,
   "metadata": {},
   "outputs": [
    {
     "name": "stdout",
     "output_type": "stream",
     "text": [
      "\n",
      "------------------------ Dictionary -------------------------------\n",
      "\n",
      "1. Diccionario con el 'Name' del juego como clave y la 'Platform' del juego como valor.\n",
      "{'Mario Kart Wii': 'Wii', 'Super Mario Bros.': 'GB', 'Wii Sports': 'Wii'}\n",
      "\n",
      "2. Diccionario con el 'Name' del juego como clave y la 'Platform' del juego como valor que sean del año 2009.\n",
      "{'New Super Mario Bros. Wii': 'Wii',\n",
      " 'Wii Fit Plus': 'Wii',\n",
      " 'Wii Sports Resort': 'Wii'}\n",
      "\n",
      "3. Diccionario con todos los registros que su 'Publisher' sea Sega\n",
      "{'Mario & Sonic at the Olympic Games': {'Genre': 'Sports',\n",
      "                                        'Platform': 'DS',\n",
      "                                        'Plublisher': 'Sega',\n",
      "                                        'Year': '2008'},\n",
      " 'Mario & Sonic at the Olympic Winter Games': {'Genre': 'Sports',\n",
      "                                               'Platform': 'DS',\n",
      "                                               'Plublisher': 'Sega',\n",
      "                                               'Year': '2009'},\n",
      " 'Sonic the Hedgehog 2': {'Genre': 'Platform',\n",
      "                          'Platform': 'GEN',\n",
      "                          'Plublisher': 'Sega',\n",
      "                          'Year': '1992'}}\n",
      "\n",
      "4. Diccionario que tiene el 'Name' del juego como clave y sus datos como valor y que 'Rank' sea mayor a 10 y menor a 20\n",
      "{'Mario Kart DS': {'Genre': 'Racing',\n",
      "                   'Platform': 'DS',\n",
      "                   'Plublisher': 'Nintendo',\n",
      "                   'Rank': '12',\n",
      "                   'Year': '2005'},\n",
      " 'Nintendogs': {'Genre': 'Simulation',\n",
      "                'Platform': 'DS',\n",
      "                'Plublisher': 'Nintendo',\n",
      "                'Rank': '11',\n",
      "                'Year': '2005'},\n",
      " 'Pokemon Gold/Pokemon Silver': {'Genre': 'Role-Playing',\n",
      "                                 'Platform': 'GB',\n",
      "                                 'Plublisher': 'Nintendo',\n",
      "                                 'Rank': '13',\n",
      "                                 'Year': '1999'}}\n",
      "\n",
      "5. Diccionario con el 'Name' del juego como clave y un promedio de sus Sales como valor\n",
      "{'Mario Kart Wii': 8.9575,\n",
      " 'Super Mario Bros.': 1.2675,\n",
      " 'Wii Sports': 20.685000000000002}\n",
      "\n",
      "-------------------------------------------------------------------\n"
     ]
    }
   ],
   "source": [
    "# Dict\n",
    "print(\"\\n------------------------ Dictionary -------------------------------\\n\")\n",
    "print_dicts(h, data)\n",
    "print(\n",
    "\t\"\\n-------------------------------------------------------------------\"\n",
    ")"
   ]
  },
  {
   "cell_type": "code",
   "execution_count": 27,
   "metadata": {},
   "outputs": [
    {
     "name": "stdout",
     "output_type": "stream",
     "text": [
      "\n",
      "------------------------ Set -------------------------------\n",
      "\n",
      "1. Conjunto de los nombres de las plataformas.\n",
      "{'GB', 'XOne', 'PSV', '2010', '3DS'}\n",
      "\n",
      "2. Conjunto de todos los registros que sus elementos sean la tupla 'Name' y 'Global_Sales' de los juegos.\n",
      "{('Angry Birds Star Wars', '0.35'),\n",
      " ('Animal Crossing: City Folk', '4.68'),\n",
      " ('Hero Bank', '0.07'),\n",
      " ('Spider-Man: Shattered Dimensions', '0.45'),\n",
      " ('Suikoden Tactics', '0.2')}\n",
      "\n",
      "3. Conjunto de todos los registros donde sus elementos sean la tupla 'Name' y 'NA_Sales' de los juegos que hayan vendido más de 5.0 millones en NA\n",
      "{('Call of Duty: Black Ops 3', 5.77),\n",
      " ('Pokemon Black/Pokemon White', 5.57),\n",
      " ('Pokemon Red/Pokemon Blue', 11.27),\n",
      " ('Pokemon Ruby/Pokemon Sapphire', 6.06),\n",
      " ('Wii Sports Resort', 15.75)}\n",
      "\n",
      "4. Conjunto de tuplas con las columnas: 'Name' y 'Global_Sales' de juegos donde su 'Publisher' sea Sega, su 'Platform' sea 3DS y que contengan la palabra Sonic\n",
      "{('Mario & Sonic at the London 2012 Olympic Games', '1.19'),\n",
      " ('Sonic & All-Stars Racing Transformed', '0.29'),\n",
      " ('Sonic Boom: Shattered Crystal', '0.29'),\n",
      " ('Sonic Generations', '1.01'),\n",
      " ('Sonic Lost World', '0.49')}\n",
      "\n",
      "5. Conjunto de los nombres de los 'Publisher' que poseen juegos del genero 'Platform' cuyo lanzamiento esté entre los años 2013 y 2016\n",
      "{'Agatsuma Entertainment',\n",
      " 'Disney Interactive Studios',\n",
      " 'Electronic Arts',\n",
      " 'Nintendo',\n",
      " 'Rain Games'}\n",
      "\n",
      "-------------------------------------------------------------------\n"
     ]
    }
   ],
   "source": [
    "# Set\n",
    "print(\"\\n------------------------ Set -------------------------------\\n\")\n",
    "print_sets(h, data)\n",
    "print(\n",
    "\t\"\\n-------------------------------------------------------------------\"\n",
    ")"
   ]
  },
  {
   "cell_type": "code",
   "execution_count": 28,
   "metadata": {},
   "outputs": [
    {
     "name": "stdout",
     "output_type": "stream",
     "text": [
      "\n",
      "------------------------ Set Opetarions -------------------------------\n",
      "\n",
      "\n",
      "1. Conjunto de las tuplas de los juegos donde su 'Platform' sea 3DS, su 'Publisher' sea Sega y su nombre no contenga la palabra Sonic.\n",
      "{('Captain America: Super Soldier', '0.08'),\n",
      " ('Hatsune Miku: Project Mirai 2', '0.22'),\n",
      " ('Hero Bank', '0.07'),\n",
      " ('Hero Bank 2', '0.05'),\n",
      " ('Puyo Puyo!! 20th Anniversary', '0.13')}\n",
      "\n",
      "2. Conjunto de los 'Publisher' que poseen juegos del genero 'Platform' cuyo lanzamiento esta entre los años 2013-2016 y los nombres de las plataformas.\n",
      "{'GB', 'XOne', 'PSV', 'Rain Games', 'Disney Interactive Studios'}\n",
      "\n",
      "3. Conjunto de tuplas que pertenezcan tanto al conjunto A y el resultado de ejercicio 2 de la sección anterior.\n",
      "{('Captain America: Super Soldier', '0.08'),\n",
      " ('Crush3D', '0.12'),\n",
      " ('Hero Bank', '0.07'),\n",
      " ('Hero Bank 2', '0.05'),\n",
      " ('Puyo Puyo!! 20th Anniversary', '0.13')}\n",
      "\n",
      "4. Conjunto complemento de las plataformas que pertenecen a los resultados del ejercicio 1 de la sección anterior y el conjunto de la llamada a la función conjunto_q().\n",
      "{'2007', 'WS', 'TG16', '2010', 'GG'}\n",
      "\n",
      "5. Conjunto de tuplas donde las ventas de los juegos que se encuentren en el conjunto del ejercicio 3 de la sección anterior y en el conjunto de la llamda a la función conjunto_u().\n",
      "{('Call of Duty: Black Ops 3', 5.77),\n",
      " ('Pokemon Black/Pokemon White', 5.57),\n",
      " ('Pokemon Red/Pokemon Blue', 11.27),\n",
      " ('Pokemon Ruby/Pokemon Sapphire', 6.06),\n",
      " ('Wii Sports Resort', 15.75)}\n",
      "\n",
      "-------------------------------------------------------------------\n"
     ]
    }
   ],
   "source": [
    "# Set Operations\n",
    "print(\"\\n------------------------ Set Opetarions -------------------------------\\n\")\n",
    "print_operation_sets(h, data)\n",
    "print(\n",
    "\t\"\\n-------------------------------------------------------------------\"\n",
    ")"
   ]
  }
 ],
 "metadata": {
  "kernelspec": {
   "display_name": "Python 3",
   "language": "python",
   "name": "python3"
  },
  "language_info": {
   "codemirror_mode": {
    "name": "ipython",
    "version": 3
   },
   "file_extension": ".py",
   "mimetype": "text/x-python",
   "name": "python",
   "nbconvert_exporter": "python",
   "pygments_lexer": "ipython3",
   "version": "3.11.0"
  },
  "orig_nbformat": 4,
  "vscode": {
   "interpreter": {
    "hash": "053f0d4ef2957308976a6ae7bbcd5f741281e7c569f52edbb52287c46ca9f425"
   }
  }
 },
 "nbformat": 4,
 "nbformat_minor": 2
}
