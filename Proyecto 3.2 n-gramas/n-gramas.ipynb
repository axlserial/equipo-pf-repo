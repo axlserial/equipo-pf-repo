{
 "cells": [
  {
   "attachments": {},
   "cell_type": "markdown",
   "metadata": {},
   "source": [
    "# **Proyecto 3.2. N-Gramas**\n",
    "\n",
    "#### Integrantes del equipo:\n",
    "1.   Elorza Velásquez Margarita\n",
    "2.   García González Axel Isaac\n",
    "3.   García González Kevin\n",
    "\n",
    "\n",
    "#### Código:"
   ]
  },
  {
   "cell_type": "code",
   "execution_count": 34,
   "metadata": {},
   "outputs": [],
   "source": [
    "from functools import reduce\n",
    "from os.path import exists"
   ]
  },
  {
   "attachments": {},
   "cell_type": "markdown",
   "metadata": {},
   "source": [
    "> Función para eliminar el número de la línea junto con el signo \"=\" para dejar solo el texto."
   ]
  },
  {
   "cell_type": "code",
   "execution_count": 35,
   "metadata": {},
   "outputs": [],
   "source": [
    "def change(element):\n",
    "    separador = 2\n",
    "    for n, e in enumerate(element):\n",
    "        if e == \"=\":\n",
    "            separador = n + 1\n",
    "            break\n",
    "    element[0] = element[0][separador:]\n",
    "    return element"
   ]
  },
  {
   "attachments": {},
   "cell_type": "markdown",
   "metadata": {},
   "source": [
    "> Función que genera un iterable que tiene separadas las palabras dependiendo del tamaño del grama n."
   ]
  },
  {
   "cell_type": "code",
   "execution_count": 36,
   "metadata": {},
   "outputs": [],
   "source": [
    "def separar(linea, secuencia):\n",
    "    if secuencia > len(linea):\n",
    "        return False\n",
    "    else:\n",
    "        lineaNueva = []\n",
    "        for i in range(0, len(linea) - secuencia + 1, 1):\n",
    "            lineaNueva.append(linea[i:i + secuencia])\n",
    "        return lineaNueva"
   ]
  },
  {
   "attachments": {},
   "cell_type": "markdown",
   "metadata": {},
   "source": [
    "> Función que regresa un iterable con los n-gramas."
   ]
  },
  {
   "cell_type": "code",
   "execution_count": 37,
   "metadata": {},
   "outputs": [],
   "source": [
    "def ordenar(line, secuencia):\n",
    "    words = change(line.strip().split(','))\n",
    "    linea_separada: list[list[str]] | bool = separar(words, secuencia)\n",
    "    return linea_separada"
   ]
  },
  {
   "attachments": {},
   "cell_type": "markdown",
   "metadata": {},
   "source": [
    "> Función que cuenta la frecuencia de cada n-grama en una lista de n-gramas regresando un diccionario donde la llave es el n-grama y el valor es la frecuencia."
   ]
  },
  {
   "cell_type": "code",
   "execution_count": 38,
   "metadata": {},
   "outputs": [],
   "source": [
    "def cuenta_lista(dict_conteo: dict[str, int], lista: list[list[str]] | bool):\n",
    "\n",
    "    # Sí la lista es vacía, regresa el diccionario sin cambios\n",
    "    if not lista:\n",
    "        return dict_conteo\n",
    "\n",
    "    # Cuenta la frecuencia de cada n-grama\n",
    "    for n_grama in lista:\n",
    "        grama_str = \",\".join(n_grama)\n",
    "\n",
    "        if grama_str in dict_conteo:\n",
    "            dict_conteo[grama_str] += 1\n",
    "        else:\n",
    "            dict_conteo[grama_str] = 1\n",
    "\n",
    "    return dict_conteo"
   ]
  },
  {
   "attachments": {},
   "cell_type": "markdown",
   "metadata": {},
   "source": [
    "> Función que procesa el archivo y retorna la salida."
   ]
  },
  {
   "cell_type": "code",
   "execution_count": 39,
   "metadata": {},
   "outputs": [],
   "source": [
    "def procesa_archivo(nombre_archivo: str, secuencia: int, umbral: int,\n",
    "                    nombre_salida: str):\n",
    "\n",
    "    # Lee el archivo, procesa cada linea, crea las listas de n-gramas y\n",
    "    # cuenta la frecuencia de cada uno\n",
    "    with open(nombre_archivo, 'r') as file:\n",
    "        listas_separadas = (ordenar(line, secuencia) for line in file)\n",
    "\n",
    "        conteo = reduce(cuenta_lista, listas_separadas, {})\n",
    "\n",
    "    # Filtra los n-gramas que no cumplen con el umbral y los ordena\n",
    "    # de mayor a menor frecuencia\n",
    "    resultados = sorted(filter(lambda grama: grama[1] >= umbral,\n",
    "                               conteo.items()),\n",
    "                        key=lambda x: x[1],\n",
    "                        reverse=True)\n",
    "\n",
    "    # Escribe los resultados en el archivo de salida\n",
    "    with open(nombre_salida, 'w', encoding=\"utf-8\") as file:\n",
    "        file.write(\n",
    "            f'Se encontraron {len(resultados)} gramas de tamaño {secuencia}:\\n'\n",
    "        )\n",
    "        for grama, frecuencia in resultados:\n",
    "            file.write(f'[{frecuencia}] {grama}\\n')"
   ]
  },
  {
   "attachments": {},
   "cell_type": "markdown",
   "metadata": {},
   "source": [
    "> Función principal"
   ]
  },
  {
   "cell_type": "code",
   "execution_count": 40,
   "metadata": {},
   "outputs": [],
   "source": [
    "def main():\n",
    "    nombre_archivo = input(\"Ingresa el nombre del archivo: \")\n",
    "    if not exists(nombre_archivo):\n",
    "        print(\"El archivo no existe, ingresa un archivo valido\")\n",
    "        exit(1)\n",
    "\n",
    "    secuencia = int(input(\"Ingresa el tamaño del grama n a utilizar: \"))\n",
    "    umbral = int(input(\"Ingresa el umbral de frecuencia: \"))\n",
    "\n",
    "    nombre_salida = input(\"Ingresa el nombre del archivo de salida: \")\n",
    "    if not nombre_salida.endswith(\".txt\"):\n",
    "        nombre_salida += \".txt\"\n",
    "\n",
    "    procesa_archivo(nombre_archivo, secuencia, umbral, nombre_salida)"
   ]
  },
  {
   "cell_type": "code",
   "execution_count": 41,
   "metadata": {},
   "outputs": [],
   "source": [
    "if __name__ == '__main__':\n",
    "    main()"
   ]
  },
  {
   "attachments": {},
   "cell_type": "markdown",
   "metadata": {},
   "source": [
    "\n",
    "\n",
    "\n",
    "#### Ejemplo:\n",
    "\n",
    "La ejecución del código nos regresa el siguiente resultado:\n",
    "\n",
    "> Se tomaron n-gramas de tamaño 4 y un umbral de frecuencia de 3.\n",
    "\n",
    "> > ![Ingresar por teclado valores](./Ejemplos/Ejecuci%C3%B3n.jpg)\n",
    "\n",
    "> El resultado de la ejecución se guarda en un archivo de texto ingresado por el usuario.\n",
    "\n",
    "> > ![Ingresar por teclado valores](./Ejemplos/archivo.jpg)\n"
   ]
  }
 ],
 "metadata": {
  "kernelspec": {
   "display_name": "Python 3",
   "language": "python",
   "name": "python3"
  },
  "language_info": {
   "codemirror_mode": {
    "name": "ipython",
    "version": 3
   },
   "file_extension": ".py",
   "mimetype": "text/x-python",
   "name": "python",
   "nbconvert_exporter": "python",
   "pygments_lexer": "ipython3",
   "version": "3.11.0"
  },
  "orig_nbformat": 4,
  "vscode": {
   "interpreter": {
    "hash": "053f0d4ef2957308976a6ae7bbcd5f741281e7c569f52edbb52287c46ca9f425"
   }
  }
 },
 "nbformat": 4,
 "nbformat_minor": 2
}
